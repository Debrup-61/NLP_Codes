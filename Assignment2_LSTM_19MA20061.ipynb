{
  "nbformat": 4,
  "nbformat_minor": 0,
  "metadata": {
    "colab": {
      "name": "Assignment2_LSTM_19MA20061.ipynb",
      "provenance": [],
      "collapsed_sections": [],
      "authorship_tag": "ABX9TyORnUfpzII0SQxd7J1ZEtA6",
      "include_colab_link": true
    },
    "kernelspec": {
      "name": "python3",
      "display_name": "Python 3"
    },
    "accelerator": "GPU"
  },
  "cells": [
    {
      "cell_type": "markdown",
      "metadata": {
        "id": "view-in-github",
        "colab_type": "text"
      },
      "source": [
        "<a href=\"https://colab.research.google.com/github/Debrup-61/SENTIMENTANALYSISUSINGLSTM/blob/main/Assignment2_LSTM_19MA20061.ipynb\" target=\"_parent\"><img src=\"https://colab.research.google.com/assets/colab-badge.svg\" alt=\"Open In Colab\"/></a>"
      ]
    },
    {
      "cell_type": "code",
      "metadata": {
        "id": "n6jugFkNw5h-",
        "colab": {
          "base_uri": "https://localhost:8080/"
        },
        "outputId": "235f2514-b497-46b6-c9ba-4f905b37fbb6"
      },
      "source": [
        "import numpy as np       # linear algebra\r\n",
        "import pandas as pd      # data processing, CSV file I/O (e.g. pd.read_csv)\r\n",
        "import torch\r\n",
        "import torch.nn as nn\r\n",
        "import torch.nn.functional as F\r\n",
        "from nltk.corpus import stopwords     #stopwords\r\n",
        "import nltk\r\n",
        "nltk.download('stopwords')\r\n",
        "from collections import Counter\r\n",
        "import string\r\n",
        "import re                             #regular expression library\r\n",
        "import seaborn as sns                 #seaborn library\r\n",
        "from tqdm import tqdm\r\n",
        "import matplotlib.pyplot as plt      \r\n",
        "from torch.utils.data import TensorDataset, DataLoader           #dataloader\r\n",
        "from sklearn.model_selection import train_test_split"
      ],
      "execution_count": null,
      "outputs": [
        {
          "output_type": "stream",
          "text": [
            "[nltk_data] Downloading package stopwords to /root/nltk_data...\n",
            "[nltk_data]   Unzipping corpora/stopwords.zip.\n"
          ],
          "name": "stdout"
        }
      ]
    },
    {
      "cell_type": "markdown",
      "metadata": {
        "id": "vFdVFaaeH6XQ"
      },
      "source": [
        "\r\n",
        "CHECKING IF GPU IS AVAILABLE"
      ]
    },
    {
      "cell_type": "code",
      "metadata": {
        "colab": {
          "base_uri": "https://localhost:8080/"
        },
        "id": "fmjK_Pik0MqW",
        "outputId": "01f0e0ea-67ee-4eee-b412-bf81a2bfc4ba"
      },
      "source": [
        "is_cuda=torch.cuda.is_available()\r\n",
        "\r\n",
        "if is_cuda:\r\n",
        "  device=torch.device(\"cuda\")\r\n",
        "  print(\"GPU IS AVAILABLE\")\r\n",
        "else:\r\n",
        "  device=torch.device(\"cpu\")\r\n",
        "  print(\"GPU NOT AVAILABLE,CPU USED\")\r\n",
        "\r\n"
      ],
      "execution_count": null,
      "outputs": [
        {
          "output_type": "stream",
          "text": [
            "GPU IS AVAILABLE\n"
          ],
          "name": "stdout"
        }
      ]
    },
    {
      "cell_type": "markdown",
      "metadata": {
        "id": "IGwmSmWMHppx"
      },
      "source": [
        "LOADING THE IMDB DATASET"
      ]
    },
    {
      "cell_type": "code",
      "metadata": {
        "colab": {
          "base_uri": "https://localhost:8080/",
          "height": 195
        },
        "id": "LT5JiEyAyBcQ",
        "outputId": "21479f02-912f-4106-fb16-dc64b6cbf277"
      },
      "source": [
        "df=pd.read_csv(\"/content/IMDB Dataset.csv\")\r\n",
        "df.head()"
      ],
      "execution_count": null,
      "outputs": [
        {
          "output_type": "execute_result",
          "data": {
            "text/html": [
              "<div>\n",
              "<style scoped>\n",
              "    .dataframe tbody tr th:only-of-type {\n",
              "        vertical-align: middle;\n",
              "    }\n",
              "\n",
              "    .dataframe tbody tr th {\n",
              "        vertical-align: top;\n",
              "    }\n",
              "\n",
              "    .dataframe thead th {\n",
              "        text-align: right;\n",
              "    }\n",
              "</style>\n",
              "<table border=\"1\" class=\"dataframe\">\n",
              "  <thead>\n",
              "    <tr style=\"text-align: right;\">\n",
              "      <th></th>\n",
              "      <th>review</th>\n",
              "      <th>sentiment</th>\n",
              "    </tr>\n",
              "  </thead>\n",
              "  <tbody>\n",
              "    <tr>\n",
              "      <th>0</th>\n",
              "      <td>One of the other reviewers has mentioned that ...</td>\n",
              "      <td>positive</td>\n",
              "    </tr>\n",
              "    <tr>\n",
              "      <th>1</th>\n",
              "      <td>A wonderful little production. &lt;br /&gt;&lt;br /&gt;The...</td>\n",
              "      <td>positive</td>\n",
              "    </tr>\n",
              "    <tr>\n",
              "      <th>2</th>\n",
              "      <td>I thought this was a wonderful way to spend ti...</td>\n",
              "      <td>positive</td>\n",
              "    </tr>\n",
              "    <tr>\n",
              "      <th>3</th>\n",
              "      <td>Basically there's a family where a little boy ...</td>\n",
              "      <td>negative</td>\n",
              "    </tr>\n",
              "    <tr>\n",
              "      <th>4</th>\n",
              "      <td>Petter Mattei's \"Love in the Time of Money\" is...</td>\n",
              "      <td>positive</td>\n",
              "    </tr>\n",
              "  </tbody>\n",
              "</table>\n",
              "</div>"
            ],
            "text/plain": [
              "                                              review sentiment\n",
              "0  One of the other reviewers has mentioned that ...  positive\n",
              "1  A wonderful little production. <br /><br />The...  positive\n",
              "2  I thought this was a wonderful way to spend ti...  positive\n",
              "3  Basically there's a family where a little boy ...  negative\n",
              "4  Petter Mattei's \"Love in the Time of Money\" is...  positive"
            ]
          },
          "metadata": {
            "tags": []
          },
          "execution_count": 3
        }
      ]
    },
    {
      "cell_type": "markdown",
      "metadata": {
        "id": "R7SbBTIhHj4n"
      },
      "source": [
        "SPLITTING OF TRAINING AND TEST SET"
      ]
    },
    {
      "cell_type": "code",
      "metadata": {
        "id": "Lqbxa28rzdk0",
        "colab": {
          "base_uri": "https://localhost:8080/"
        },
        "outputId": "b53dddcd-bc05-4d38-809d-5da2e9b00d4a"
      },
      "source": [
        "X,y = df['review'].values,df['sentiment'].values\r\n",
        "X_train,X_test,y_train,y_test = train_test_split(X,y,stratify=y)\r\n",
        "print(\"The shape of train data is {}\".format(X_train.shape))\r\n",
        "print(\"The shape of test data is {}\".format(X_test.shape))"
      ],
      "execution_count": null,
      "outputs": [
        {
          "output_type": "stream",
          "text": [
            "The shape of train data is (37500,)\n",
            "The shape of test data is (12500,)\n"
          ],
          "name": "stdout"
        }
      ]
    },
    {
      "cell_type": "code",
      "metadata": {
        "colab": {
          "base_uri": "https://localhost:8080/"
        },
        "id": "JuTF0cAQJMay",
        "outputId": "fae734bf-8deb-43d3-bbac-cce333ddc633"
      },
      "source": [
        "type(y_train)"
      ],
      "execution_count": null,
      "outputs": [
        {
          "output_type": "execute_result",
          "data": {
            "text/plain": [
              "numpy.ndarray"
            ]
          },
          "metadata": {
            "tags": []
          },
          "execution_count": 5
        }
      ]
    },
    {
      "cell_type": "markdown",
      "metadata": {
        "id": "PxIUlmlTInZ5"
      },
      "source": [
        "ANALYZING THE SENTIMENT  IN TRAINSET"
      ]
    },
    {
      "cell_type": "code",
      "metadata": {
        "colab": {
          "base_uri": "https://localhost:8080/",
          "height": 389
        },
        "id": "MxHFPNb3Dix5",
        "outputId": "e82b9a05-0dea-40c6-a0c9-0f8d12dcb7e7"
      },
      "source": [
        "v=pd.Series(y_train).value_counts()\r\n",
        "print(v)\r\n",
        "dd=v.values\r\n",
        "plt.figure(figsize=(5,5))\r\n",
        "sns.barplot(x=['Negative','Positive'],y=dd)\r\n",
        "plt.title(\"No of Positive and Negative reviews in Train set\")\r\n",
        "plt.show()\r\n"
      ],
      "execution_count": null,
      "outputs": [
        {
          "output_type": "stream",
          "text": [
            "positive    18750\n",
            "negative    18750\n",
            "dtype: int64\n"
          ],
          "name": "stdout"
        },
        {
          "output_type": "display_data",
          "data": {
            "image/png": "[encoded data removed]",
            "text/plain": [
              "<Figure size 360x360 with 1 Axes>"
            ]
          },
          "metadata": {
            "tags": [],
            "needs_background": "light"
          }
        }
      ]
    },
    {
      "cell_type": "markdown",
      "metadata": {
        "id": "G5dUQuvDhU12"
      },
      "source": [
        "PREPROCESSING A WORD TO REMOVE SPECIAL CHARACTERS AND DIGITS"
      ]
    },
    {
      "cell_type": "code",
      "metadata": {
        "id": "__27hzZ0JnC7"
      },
      "source": [
        "def preprocess_string(s):\r\n",
        "    s = re.sub(r\"[^\\w\\s]\", '', s)                       # Remove everything except letters,digits and spaces by no space \r\n",
        "    s = re.sub(r\"\\s+\", '', s)                           # Replace all runs of whitespaces with no space\r\n",
        "    s = re.sub(r\"\\d\", '', s)                            # replace digits with no space\r\n",
        "    return s\r\n"
      ],
      "execution_count": null,
      "outputs": []
    },
    {
      "cell_type": "markdown",
      "metadata": {
        "id": "ndEET0qrhqzY"
      },
      "source": [
        "TOCKENIZATION OF EACH WORD IN A REVIEW \r\n",
        "AND REPLACE WORDS WITH ONE-HOT ENCODED VALUES IN TRAINING AND TEST SET"
      ]
    },
    {
      "cell_type": "code",
      "metadata": {
        "id": "3dLIZnoGOaH9"
      },
      "source": [
        "def tockenize(x_train,y_train,x_val,y_val):\r\n",
        "    word_list = []\r\n",
        "\r\n",
        "    stop_words = set(stopwords.words('english')) \r\n",
        "    for sent in x_train:\r\n",
        "        for word in sent.lower().split():\r\n",
        "            word = preprocess_string(word)                     \r\n",
        "            if word not in stop_words and word != '':                                                       #REMOVING THE STOPWORDS\r\n",
        "                word_list.append(word)\r\n",
        "  \r\n",
        "    corpus = Counter(word_list)\r\n",
        "    # sorting on the basis of most common words\r\n",
        "    corpus_ = sorted(corpus,key=corpus.get,reverse=True)[:1000]\r\n",
        "    # creating a dict\r\n",
        "    onehot_dict = {w:i+1 for i,w in enumerate(corpus_)}\r\n",
        "    final_corpus=[]\r\n",
        "    # tockenize\r\n",
        "    final_list_train,final_list_test = [],[]                                                                #ONE-HOT ENCODING THE TRAIN SET\r\n",
        "    for sent in x_train:                                                                                    \r\n",
        "            final_list_train.append([onehot_dict[preprocess_string(word)] for word in sent.lower().split() if preprocess_string(word) in onehot_dict.keys()]) \r\n",
        "    \r\n",
        "    for sent in x_train:\r\n",
        "            final_corpus.append([preprocess_string(word) for word in sent.lower().split()                   #MAKING OF THE CORPUS\r\n",
        "                                     if preprocess_string(word) in onehot_dict.keys()])                             \r\n",
        "    for sent in x_val:\r\n",
        "            final_list_test.append([onehot_dict[preprocess_string(word)] for word in sent.lower().split()   #ONE-HOT ENCODING THE TEST SET\r\n",
        "                                    if preprocess_string(word) in onehot_dict.keys()])\r\n",
        "            \r\n",
        "    encoded_train = [1 if label =='positive' else 0 for label in y_train]  \r\n",
        "    encoded_test = [1 if label =='positive' else 0 for label in y_val] \r\n",
        "    return np.array(final_list_train), np.array(encoded_train),np.array(final_list_test), np.array(encoded_test),onehot_dict,final_corpus"
      ],
      "execution_count": null,
      "outputs": []
    },
    {
      "cell_type": "code",
      "metadata": {
        "id": "mkMw9uLfbvpd"
      },
      "source": [
        "X_train,y_train,X_test,y_test,vocab,corpus = tockenize(X_train,y_train,X_test,y_test)"
      ],
      "execution_count": null,
      "outputs": []
    },
    {
      "cell_type": "code",
      "metadata": {
        "colab": {
          "base_uri": "https://localhost:8080/"
        },
        "id": "nNJz2YEl85Kp",
        "outputId": "ed1375b8-6566-48ad-dd3f-aaab6e8684fb"
      },
      "source": [
        "print(corpus[1])                 #corpus is the corpus of the training set"
      ],
      "execution_count": null,
      "outputs": [
        {
          "output_type": "stream",
          "text": [
            "['main', 'reason', 'see', 'flick', 'never', 'became', 'store', 'may', 'never', 'known', 'every', 'scene', 'shes', 'directed', 'piece', 'cast', 'first', 'rate', 'robert', 'especially', 'memorable']\n"
          ],
          "name": "stdout"
        }
      ]
    },
    {
      "cell_type": "code",
      "metadata": {
        "colab": {
          "base_uri": "https://localhost:8080/"
        },
        "id": "MpYDPObxYLm1",
        "outputId": "586be924-947e-4c68-cedc-d1536aa5e3bf"
      },
      "source": [
        "print(X_train[0])                #one hot encoded training "
      ],
      "execution_count": null,
      "outputs": [
        {
          "output_type": "stream",
          "text": [
            "[267, 230, 47, 312, 249, 270, 353, 17, 4, 148, 322, 99, 44, 420, 497, 110, 15, 174, 5, 45, 202, 192, 536, 1, 1, 336, 253, 3, 30, 392, 133, 9, 720, 3, 1, 10, 18, 64, 6, 989, 744, 27, 89, 617, 212, 6, 191]\n"
          ],
          "name": "stdout"
        }
      ]
    },
    {
      "cell_type": "markdown",
      "metadata": {
        "id": "yPp4IR_no8mw"
      },
      "source": [
        "LENGTH OF VOCABULARY"
      ]
    },
    {
      "cell_type": "code",
      "metadata": {
        "colab": {
          "base_uri": "https://localhost:8080/"
        },
        "id": "JOnt9szyb3-X",
        "outputId": "f93bfb48-5c99-4ed2-c3da-1e173b1680aa"
      },
      "source": [
        "print(f'Length of vocabulary is {len(vocab)}')"
      ],
      "execution_count": null,
      "outputs": [
        {
          "output_type": "stream",
          "text": [
            "Length of vocabulary is 1000\n"
          ],
          "name": "stdout"
        }
      ]
    },
    {
      "cell_type": "markdown",
      "metadata": {
        "id": "_OL0KnaVpAxA"
      },
      "source": [
        "ANALYZING THE LENGTH OF REVIEWS"
      ]
    },
    {
      "cell_type": "code",
      "metadata": {
        "colab": {
          "base_uri": "https://localhost:8080/",
          "height": 618
        },
        "id": "5y42wG2VdfQb",
        "outputId": "ff249dc3-7ae1-4eaa-93b4-d1be5dca0689"
      },
      "source": [
        "review_length = [len(i) for i in X_train]\r\n",
        "length_data=pd.Series(review_length)\r\n",
        "plt.figure(figsize=(8,6))\r\n",
        "sns.distplot(length_data,color='red',kde_kws={\"shade\":True},kde=True)\r\n",
        "plt.title(\"Analysis of Review Lengths in the Training Set\")\r\n",
        "plt.xlabel(\"Length of Review\")\r\n",
        "plt.ylabel(\"Proportion of Reviews\")\r\n",
        "plt.show()\r\n",
        "length_data.describe()"
      ],
      "execution_count": null,
      "outputs": [
        {
          "output_type": "stream",
          "text": [
            "/usr/local/lib/python3.7/dist-packages/seaborn/distributions.py:2557: FutureWarning: `distplot` is a deprecated function and will be removed in a future version. Please adapt your code to use either `displot` (a figure-level function with similar flexibility) or `histplot` (an axes-level function for histograms).\n",
            "  warnings.warn(msg, FutureWarning)\n"
          ],
          "name": "stderr"
        },
        {
          "output_type": "display_data",
          "data": {
            "image/png": "[encoded data removed]",
            "text/plain": [
              "<Figure size 576x432 with 1 Axes>"
            ]
          },
          "metadata": {
            "tags": [],
            "needs_background": "light"
          }
        },
        {
          "output_type": "execute_result",
          "data": {
            "text/plain": [
              "count    37500.000000\n",
              "mean        69.144693\n",
              "std         47.927965\n",
              "min          0.000000\n",
              "25%         39.000000\n",
              "50%         54.000000\n",
              "75%         84.000000\n",
              "max        558.000000\n",
              "dtype: float64"
            ]
          },
          "metadata": {
            "tags": []
          },
          "execution_count": 15
        }
      ]
    },
    {
      "cell_type": "markdown",
      "metadata": {
        "id": "W196_eyDouZp"
      },
      "source": [
        "PRINTING THE FIRST REVIEW IN THE TRAINING SET AFTER TOCKENIZATION AND ENCODING"
      ]
    },
    {
      "cell_type": "code",
      "metadata": {
        "colab": {
          "base_uri": "https://localhost:8080/"
        },
        "id": "rp2S1Qgadm-G",
        "outputId": "6a68310e-a7e0-45af-fe51-0dc763e7f588"
      },
      "source": [
        "print(X_train[0:3])"
      ],
      "execution_count": null,
      "outputs": [
        {
          "output_type": "stream",
          "text": [
            "[list([267, 230, 47, 312, 249, 270, 353, 17, 4, 148, 322, 99, 44, 420, 497, 110, 15, 174, 5, 45, 202, 192, 536, 1, 1, 336, 253, 3, 30, 392, 133, 9, 720, 3, 1, 10, 18, 64, 6, 989, 744, 27, 89, 617, 212, 6, 191])\n",
            " list([173, 176, 11, 392, 33, 750, 977, 101, 33, 487, 75, 47, 326, 406, 302, 86, 20, 967, 475, 156, 743])\n",
            " list([139, 574, 201, 850, 229, 319, 202, 625, 319, 819, 131, 46, 4, 319, 885, 466, 493, 246, 220, 196, 819, 311, 493, 363, 70, 6, 27, 869, 5, 885, 27, 576, 42, 163, 41, 102, 76, 490, 6, 7, 65, 64, 4, 869, 648, 908, 17, 77, 360, 300, 3, 14, 510, 2, 20, 836, 222, 645, 49, 634, 839, 510, 576, 118, 619, 335, 109])]\n"
          ],
          "name": "stdout"
        }
      ]
    },
    {
      "cell_type": "code",
      "metadata": {
        "colab": {
          "base_uri": "https://localhost:8080/"
        },
        "id": "8iDLg7gpd92q",
        "outputId": "3e0a4837-829f-4525-8c28-50165cee5482"
      },
      "source": [
        "print(y_train)"
      ],
      "execution_count": null,
      "outputs": [
        {
          "output_type": "stream",
          "text": [
            "[0 1 1 ... 1 1 1]\n"
          ],
          "name": "stdout"
        }
      ]
    },
    {
      "cell_type": "code",
      "metadata": {
        "colab": {
          "base_uri": "https://localhost:8080/"
        },
        "id": "-SixzVXLdzQV",
        "outputId": "e215e9d5-2ba2-4b08-d3f1-2ebbbbd93db9"
      },
      "source": [
        "type(X_train)"
      ],
      "execution_count": null,
      "outputs": [
        {
          "output_type": "execute_result",
          "data": {
            "text/plain": [
              "numpy.ndarray"
            ]
          },
          "metadata": {
            "tags": []
          },
          "execution_count": 18
        }
      ]
    },
    {
      "cell_type": "code",
      "metadata": {
        "colab": {
          "base_uri": "https://localhost:8080/"
        },
        "id": "1DnqOTNPd-wr",
        "outputId": "e1baefa2-4e81-4b68-e075-27adf42bf2b8"
      },
      "source": [
        "print(X_test)"
      ],
      "execution_count": null,
      "outputs": [
        {
          "output_type": "stream",
          "text": [
            "[list([16, 143, 3, 179, 19, 580, 196, 36, 12, 34, 34, 65, 3, 101, 208, 362, 279, 60, 567, 366, 173, 992, 2, 2, 792, 16, 38, 196, 474, 738, 16, 73, 3, 501, 729, 17, 66, 272, 272, 23, 323, 272, 38, 104, 446, 606, 373, 65, 2, 101, 184, 623, 514, 82, 11, 52, 16, 691])\n",
            " list([39, 70, 76, 22, 822, 692, 32, 79, 264, 369, 168, 9, 195, 11, 4, 25, 147, 102, 481, 727, 128, 14, 98, 454, 54, 968, 146, 54, 554, 4, 452, 3, 10, 10, 18, 63, 808, 976, 15, 40, 602, 27, 112, 18, 38, 18, 81, 10, 199, 34, 704, 942, 317, 369, 216, 28, 744, 314, 3, 7, 858, 27, 3, 51, 7, 21, 4, 571, 28, 3, 56, 7, 600, 18, 57, 261, 81, 4, 57, 550, 618, 31, 59, 828, 13, 570, 3, 75, 9, 433, 182, 52, 323, 4, 342, 761, 641, 254, 79, 379, 4, 254, 356, 190, 522, 4, 199, 18, 3, 148, 692, 90, 68, 223, 140, 6, 787, 705])\n",
            " list([287, 4, 688, 19, 101, 4, 5, 268, 147, 169, 693, 726, 66, 490, 142, 748, 30, 458, 78, 284, 6, 78, 24, 6, 592, 133, 63, 510])\n",
            " ...\n",
            " list([3, 287, 678, 234, 798, 22, 819, 252, 185, 587, 836, 252, 625, 252, 111, 182, 345, 741, 751, 37, 191, 14, 1, 3, 982, 525, 71, 730, 215, 4, 57, 147, 116, 179, 16, 53, 526, 139, 87, 355, 279, 339, 91, 84, 575, 33, 39, 8, 287, 870, 885, 5, 1, 31, 587, 83, 221, 333, 325, 11, 271, 165, 16, 965, 819, 252, 1, 560, 459, 843, 800, 352, 649, 44, 210, 71, 655, 956, 802, 266, 745, 11, 548, 56, 12, 963, 733, 137, 220, 576, 880, 7, 949, 12, 897, 5, 17, 464, 758, 76, 252, 256, 747, 67, 207, 302, 12, 275, 680, 149, 12])\n",
            " list([216, 30, 42, 29, 264, 83, 14, 847, 83, 6, 42, 29, 21, 264, 466, 583, 637, 474, 14, 190, 86, 17, 378, 453, 252, 310, 836, 55, 11, 75, 285, 336, 5, 48, 429, 108, 264, 42, 7, 65, 54, 146, 99, 32, 75, 285, 44, 836, 55, 310, 4, 162, 163, 831, 6])\n",
            " list([2, 123, 33, 2, 342, 455, 330, 643, 320, 1, 466, 47, 2, 47, 33, 12, 412, 203, 13, 203, 610, 2, 63, 352, 614, 63, 421, 19, 111, 24, 19, 67, 175, 2, 461, 1, 2, 320, 464, 3, 757, 55, 464, 85, 464, 804, 4, 4, 455, 235, 5, 1, 63, 12, 89, 693, 222, 261, 9, 149, 723, 12, 109, 1, 33, 129, 356, 184, 9, 710, 184, 93, 941, 152, 568, 318, 38, 105, 2, 189, 328, 59, 674])]\n"
          ],
          "name": "stdout"
        }
      ]
    },
    {
      "cell_type": "code",
      "metadata": {
        "colab": {
          "base_uri": "https://localhost:8080/"
        },
        "id": "UFCZXkI3eM68",
        "outputId": "e0cad29d-04c3-4ac7-cc00-ad1957107beb"
      },
      "source": [
        "print(y_test)"
      ],
      "execution_count": null,
      "outputs": [
        {
          "output_type": "stream",
          "text": [
            "[1 0 1 ... 1 1 0]\n"
          ],
          "name": "stdout"
        }
      ]
    },
    {
      "cell_type": "markdown",
      "metadata": {
        "id": "zf81-Z5igSpf"
      },
      "source": [
        "PADDING"
      ]
    },
    {
      "cell_type": "code",
      "metadata": {
        "id": "cMqU8oglcfOV"
      },
      "source": [
        "def padding_(sentences, seq_len):\r\n",
        "    features = np.zeros((len(sentences), seq_len),dtype=int)\r\n",
        "    for ii, review in enumerate(sentences):\r\n",
        "        if len(review) != 0:\r\n",
        "            features[ii, -len(review):] = np.array(review)[:seq_len]\r\n",
        "    return features"
      ],
      "execution_count": null,
      "outputs": []
    },
    {
      "cell_type": "code",
      "metadata": {
        "id": "r1SPFGN9rUV_"
      },
      "source": [
        "#we have very less number of reviews with length > 500.\r\n",
        "#So we will consideronly those below it.                             #PADDING TO LENGTH 500\r\n",
        "x_train_pad = padding_(X_train,500)\r\n",
        "x_test_pad = padding_(X_test,500)"
      ],
      "execution_count": null,
      "outputs": []
    },
    {
      "cell_type": "markdown",
      "metadata": {
        "id": "V8Wdc77rgVUq"
      },
      "source": [
        "BATCHING AND LOADING AS TENSOR"
      ]
    },
    {
      "cell_type": "code",
      "metadata": {
        "id": "rWuDocqlc6Wm"
      },
      "source": [
        "# create Tensor datasets\r\n",
        "train_data = TensorDataset(torch.from_numpy(x_train_pad), torch.from_numpy(y_train))\r\n",
        "valid_data = TensorDataset(torch.from_numpy(x_test_pad), torch.from_numpy(y_test))\r\n",
        "\r\n",
        "# dataloaders\r\n",
        "batch_size = 50                 #Batchsize=50\r\n",
        "\r\n",
        "# make sure to SHUFFLE your data\r\n",
        "train_loader = DataLoader(train_data, shuffle=True, batch_size=batch_size)\r\n",
        "valid_loader = DataLoader(valid_data, shuffle=True, batch_size=batch_size)"
      ],
      "execution_count": null,
      "outputs": []
    },
    {
      "cell_type": "markdown",
      "metadata": {
        "id": "_ENiFWTRGZv2"
      },
      "source": [
        "LOOKING AT ONE SAMPLE BATCH OF TRAINING DATA"
      ]
    },
    {
      "cell_type": "code",
      "metadata": {
        "colab": {
          "base_uri": "https://localhost:8080/"
        },
        "id": "AwOwHQ0LgnoA",
        "outputId": "86450a50-936b-4e04-e604-9a5680f1d71f"
      },
      "source": [
        "# obtain one batch of training data\r\n",
        "dataiter = iter(train_loader)\r\n",
        "sample_x, sample_y = dataiter.next()\r\n",
        "\r\n",
        "print('Input size of a random batch of size 50 and length 500:', sample_x.size())         # batch_size, seq_length\r\n",
        "print('Sample input: \\n', sample_x)\r\n",
        "print('Sample output: \\n', sample_y)"
      ],
      "execution_count": null,
      "outputs": [
        {
          "output_type": "stream",
          "text": [
            "Input size of a random batch of size 50 and length 500: torch.Size([50, 500])\n",
            "Sample input: \n",
            " tensor([[  0,   0,   0,  ..., 859,   9,  58],\n",
            "        [  0,   0,   0,  ..., 157, 279, 168],\n",
            "        [  0,   0,   0,  ...,   2,   1, 300],\n",
            "        ...,\n",
            "        [  0,   0,   0,  ...,   3, 597, 167],\n",
            "        [  0,   0,   0,  ...,  48,   5, 103],\n",
            "        [  0,   0,   0,  ..., 107,  78, 365]])\n",
            "Sample output: \n",
            " tensor([1, 1, 1, 0, 1, 0, 1, 1, 1, 0, 1, 0, 1, 0, 1, 0, 0, 0, 0, 0, 1, 0, 1, 1,\n",
            "        0, 0, 0, 1, 0, 0, 1, 0, 0, 0, 0, 0, 0, 1, 1, 1, 0, 0, 0, 1, 0, 0, 1, 1,\n",
            "        0, 0])\n"
          ],
          "name": "stdout"
        }
      ]
    },
    {
      "cell_type": "markdown",
      "metadata": {
        "id": "jYwrFB4sZrdF"
      },
      "source": [
        "TRAINING OUR CORPUS USING WORD2VEC"
      ]
    },
    {
      "cell_type": "code",
      "metadata": {
        "id": "1H8dx5amp_K4"
      },
      "source": [
        "from gensim.test.utils import common_texts\r\n",
        "from gensim.models import Word2Vec\r\n",
        "model1 = Word2Vec(sentences=corpus, window=5, min_count=1, workers=4)    #Embedding dimensions 100\r\n",
        "model1.save(\"word2vec.model\")\r\n",
        "\r\n",
        "\r\n"
      ],
      "execution_count": null,
      "outputs": []
    },
    {
      "cell_type": "markdown",
      "metadata": {
        "id": "skJMxtcKG4pB"
      },
      "source": [
        "LOOKING AT A WORD EMBEDDING OF A WORD IN WORD2VEC"
      ]
    },
    {
      "cell_type": "code",
      "metadata": {
        "colab": {
          "base_uri": "https://localhost:8080/"
        },
        "id": "yacqCMwaZPpp",
        "outputId": "cc74a4ff-4a87-4bc2-b472-d43efd381a52"
      },
      "source": [
        "vector = model1.wv['br']\r\n",
        "print(vector)"
      ],
      "execution_count": null,
      "outputs": [
        {
          "output_type": "stream",
          "text": [
            "[ 0.20113817  0.2596256   0.02847062  0.16468903 -0.50775373  0.00326226\n",
            " -0.54313153 -0.25037336  0.31023625  0.15426728  0.0984026  -0.44321266\n",
            "  0.71274626 -0.29669058 -0.1333692  -0.31388274 -0.1898986  -0.57883567\n",
            "  0.06252825 -0.8289392  -0.04081862  0.1708844   0.16959925  0.2443683\n",
            " -0.7343311   0.02379784 -0.25031027  0.5044533   0.15844686  0.11310621\n",
            " -0.04147642  0.151375   -0.4915913   0.3315909   0.06221532  0.77861315\n",
            "  0.3932544  -0.35125238 -0.4853598  -0.31570196  0.09559932  0.5843627\n",
            " -0.14215545  0.01343707  0.3282927   0.17909993  0.12182486 -0.1259974\n",
            " -0.72682685  0.12581041  0.04956407 -0.11312543 -0.39942005  0.6310883\n",
            " -0.5614767   0.02568071 -0.0993187  -0.33216807 -0.5921148  -0.23900828\n",
            " -0.10494468 -0.08404949  0.44807178  0.5503622   0.32398087 -0.3767919\n",
            " -0.42693463  0.14789028  0.42514494  0.03044885 -0.30427536 -0.8287477\n",
            "  0.8044161  -0.34888634 -0.3905042   0.25375858  0.23275928 -0.09296945\n",
            " -0.7835027   0.5648758   0.3106166   0.10210003  0.32718012  0.57359457\n",
            "  0.00965771  0.24524578  0.0796364   0.0636893   0.18378711 -0.0641093\n",
            "  0.18501607 -0.04028324 -0.20119968 -0.8571841  -0.03305501  0.3039244\n",
            " -0.08747455  0.35406688  0.19785978  0.26654452]\n"
          ],
          "name": "stdout"
        }
      ]
    },
    {
      "cell_type": "markdown",
      "metadata": {
        "id": "hq-i7ErGHNIX"
      },
      "source": [
        "VISUALIZATION OF THE WORD2VEC MODEL"
      ]
    },
    {
      "cell_type": "markdown",
      "metadata": {
        "id": "-Y-GY8DBHRoI"
      },
      "source": [
        "1. LOOKING AT WORDS MOST SIMILAR TO THE WORD \"GOOD\""
      ]
    },
    {
      "cell_type": "code",
      "metadata": {
        "colab": {
          "base_uri": "https://localhost:8080/"
        },
        "id": "J_v1CDs6qcJr",
        "outputId": "5664d473-4f54-4dd5-a42d-7ac0c9a0820e"
      },
      "source": [
        "model1.most_similar('good')[:5]                     #finding 5 most similar words"
      ],
      "execution_count": null,
      "outputs": [
        {
          "output_type": "stream",
          "text": [
            "/usr/local/lib/python3.7/dist-packages/ipykernel_launcher.py:1: DeprecationWarning: Call to deprecated `most_similar` (Method will be removed in 4.0.0, use self.wv.most_similar() instead).\n",
            "  \"\"\"Entry point for launching an IPython kernel.\n"
          ],
          "name": "stderr"
        },
        {
          "output_type": "execute_result",
          "data": {
            "text/plain": [
              "[('decent', 0.7306317090988159),\n",
              " ('bad', 0.6334047317504883),\n",
              " ('great', 0.5555548667907715),\n",
              " ('ok', 0.5332280397415161),\n",
              " ('fine', 0.5189286470413208)]"
            ]
          },
          "metadata": {
            "tags": []
          },
          "execution_count": 64
        }
      ]
    },
    {
      "cell_type": "markdown",
      "metadata": {
        "id": "2o0SuaumHfhn"
      },
      "source": [
        "VISUALIZING THE WORD2VEC EMBEDDINGS"
      ]
    },
    {
      "cell_type": "code",
      "metadata": {
        "colab": {
          "base_uri": "https://localhost:8080/"
        },
        "id": "caKgTsbDrz7N",
        "outputId": "7b8a1fee-8959-45f3-bce0-a17ad3c76b81"
      },
      "source": [
        "from sklearn.manifold import TSNE\r\n",
        "v=list(model1.wv.vocab)\r\n",
        "V=model1[v]\r\n",
        "tsne = TSNE(n_components=2)\r\n",
        "V_tsne = tsne.fit_transform(V[:200,:])"
      ],
      "execution_count": null,
      "outputs": [
        {
          "output_type": "stream",
          "text": [
            "/usr/local/lib/python3.7/dist-packages/ipykernel_launcher.py:3: DeprecationWarning: Call to deprecated `__getitem__` (Method will be removed in 4.0.0, use self.wv.__getitem__() instead).\n",
            "  This is separate from the ipykernel package so we can avoid doing imports until\n"
          ],
          "name": "stderr"
        }
      ]
    },
    {
      "cell_type": "markdown",
      "metadata": {
        "id": "DR5f2CwdHyki"
      },
      "source": [
        "DIMENSIONALITY REDUCTION TO REPRESENT THE WORDS IN A 2D PLANE"
      ]
    },
    {
      "cell_type": "code",
      "metadata": {
        "colab": {
          "base_uri": "https://localhost:8080/",
          "height": 646
        },
        "id": "fCP6NpFnrfjo",
        "outputId": "fb249450-0177-44f9-b91e-926a8f95a994"
      },
      "source": [
        "vo_df = pd.DataFrame(V_tsne, index=v[:200], columns=['x', 'y'])\r\n",
        "fig = plt.figure(figsize=(11,11))\r\n",
        "ax = fig.add_subplot(1, 1, 1)\r\n",
        "ax.scatter(vo_df['x'], vo_df['y'])\r\n",
        "for word, pos in vo_df.iterrows():                                             # plotting of the words in Word2vec embeddings \r\n",
        "    ax.annotate(word, pos)\r\n",
        "ax.grid() "
      ],
      "execution_count": null,
      "outputs": [
        {
          "output_type": "display_data",
          "data": {
            "image/png": "[encoded data removed]",
            "text/plain": [
              "<Figure size 792x792 with 1 Axes>"
            ]
          },
          "metadata": {
            "tags": [],
            "needs_background": "light"
          }
        }
      ]
    },
    {
      "cell_type": "markdown",
      "metadata": {
        "id": "sUonOkI4IPu0"
      },
      "source": [
        "\r\n",
        "\r\n",
        "*   As we can see in the representation above similar words have very close embeddings. For example,the words 'shows' and 'television' have very similar embeddings.Also, words like 'cast' and 'directed' have similar embeddings and so on.\r\n",
        "*   Hence, the Word2Vec model can represent meanings of the words in our corpus.\r\n",
        "\r\n"
      ]
    },
    {
      "cell_type": "code",
      "metadata": {
        "colab": {
          "base_uri": "https://localhost:8080/"
        },
        "id": "c0zuJianZ3BE",
        "outputId": "1cee52c4-05ef-4d95-8cdb-afac57b2bd5a"
      },
      "source": [
        "print(vocab)                    #Printing the vocabulary of our training set"
      ],
      "execution_count": null,
      "outputs": [
        {
          "output_type": "stream",
          "text": [
            "{'br': 1, 'movie': 2, 'film': 3, 'one': 4, 'like': 5, 'good': 6, 'even': 7, 'would': 8, 'time': 9, 'really': 10, 'see': 11, 'story': 12, 'much': 13, 'well': 14, 'get': 15, 'great': 16, 'also': 17, 'bad': 18, 'people': 19, 'first': 20, 'dont': 21, 'movies': 22, 'make': 23, 'made': 24, 'films': 25, 'could': 26, 'way': 27, 'characters': 28, 'think': 29, 'watch': 30, 'many': 31, 'seen': 32, 'never': 33, 'two': 34, 'character': 35, 'love': 36, 'best': 37, 'acting': 38, 'know': 39, 'plot': 40, 'little': 41, 'show': 42, 'life': 43, 'ever': 44, 'better': 45, 'still': 46, 'scene': 47, 'say': 48, 'end': 49, 'man': 50, 'scenes': 51, 'something': 52, 'go': 53, 'im': 54, 'back': 55, 'real': 56, 'thing': 57, 'watching': 58, 'didnt': 59, 'doesnt': 60, 'years': 61, 'actors': 62, 'another': 63, 'actually': 64, 'though': 65, 'funny': 66, 'makes': 67, 'nothing': 68, 'find': 69, 'look': 70, 'new': 71, 'going': 72, 'work': 73, 'lot': 74, 'every': 75, 'old': 76, 'us': 77, 'part': 78, 'cant': 79, 'director': 80, 'thats': 81, 'want': 82, 'pretty': 83, 'things': 84, 'quite': 85, 'cast': 86, 'young': 87, 'seems': 88, 'around': 89, 'got': 90, 'take': 91, 'however': 92, 'fact': 93, 'world': 94, 'big': 95, 'enough': 96, 'thought': 97, 'give': 98, 'ive': 99, 'horror': 100, 'may': 101, 'long': 102, 'without': 103, 'gets': 104, 'saw': 105, 'isnt': 106, 'come': 107, 'always': 108, 'must': 109, 'music': 110, 'almost': 111, 'original': 112, 'role': 113, 'theres': 114, 'right': 115, 'interesting': 116, 'times': 117, 'comedy': 118, 'whole': 119, 'series': 120, 'least': 121, 'done': 122, 'point': 123, 'action': 124, 'guy': 125, 'bit': 126, 'hes': 127, 'might': 128, 'far': 129, 'script': 130, 'since': 131, 'anything': 132, 'minutes': 133, 'feel': 134, 'last': 135, 'probably': 136, 'family': 137, 'kind': 138, 'performance': 139, 'tv': 140, 'yet': 141, 'rather': 142, 'fun': 143, 'away': 144, 'played': 145, 'sure': 146, 'found': 147, 'worst': 148, 'anyone': 149, 'making': 150, 'girl': 151, 'although': 152, 'woman': 153, 'believe': 154, 'trying': 155, 'especially': 156, 'course': 157, 'everything': 158, 'shows': 159, 'put': 160, 'comes': 161, 'day': 162, 'goes': 163, 'hard': 164, 'maybe': 165, 'looking': 166, 'dvd': 167, 'worth': 168, 'different': 169, 'ending': 170, 'watched': 171, 'wasnt': 172, 'main': 173, 'looks': 174, 'sense': 175, 'reason': 176, 'place': 177, 'book': 178, 'true': 179, 'play': 180, 'three': 181, 'screen': 182, 'someone': 183, 'set': 184, 'plays': 185, 'money': 186, 'together': 187, 'job': 188, 'said': 189, 'everyone': 190, 'actor': 191, 'effects': 192, 'instead': 193, 'seem': 194, 'takes': 195, 'beautiful': 196, 'american': 197, 'later': 198, 'seeing': 199, 'john': 200, 'version': 201, 'special': 202, 'left': 203, 'war': 204, 'idea': 205, 'night': 206, 'excellent': 207, 'black': 208, 'simply': 209, 'audience': 210, 'high': 211, 'youre': 212, 'shot': 213, 'fan': 214, 'death': 215, 'used': 216, 'short': 217, 'nice': 218, 'completely': 219, 'friends': 220, 'read': 221, 'house': 222, 'else': 223, 'poor': 224, 'wife': 225, 'kids': 226, 'men': 227, 'along': 228, 'year': 229, 'use': 230, 'help': 231, 'second': 232, 'less': 233, 'star': 234, 'home': 235, 'try': 236, 'boring': 237, 'mind': 238, 'enjoy': 239, 'half': 240, 'truly': 241, 'need': 242, 'rest': 243, 'stupid': 244, 'given': 245, 'classic': 246, 'dead': 247, 'next': 248, 'either': 249, 'father': 250, 'tell': 251, 'performances': 252, 'recommend': 253, 'line': 254, 'wrong': 255, 'production': 256, 'let': 257, 'understand': 258, 'couple': 259, 'start': 260, 'full': 261, 'hollywood': 262, 'women': 263, 'remember': 264, 'came': 265, 'getting': 266, 'terrible': 267, 'others': 268, 'school': 269, 'awful': 270, 'mean': 271, 'moments': 272, 'camera': 273, 'keep': 274, 'perhaps': 275, 'wonderful': 276, 'sex': 277, 'video': 278, 'definitely': 279, 'playing': 280, 'small': 281, 'couldnt': 282, 'name': 283, 'gives': 284, 'episode': 285, 'human': 286, 'early': 287, 'perfect': 288, 'person': 289, 'finally': 290, 'face': 291, 'budget': 292, 'absolutely': 293, 'often': 294, 'top': 295, 'case': 296, 'certainly': 297, 'went': 298, 'lines': 299, 'title': 300, 'dialogue': 301, 'piece': 302, 'guys': 303, 'become': 304, 'head': 305, 'yes': 306, 'entire': 307, 'loved': 308, 'overall': 309, 'hope': 310, 'style': 311, 'lost': 312, 'liked': 313, 'written': 314, 'sort': 315, 'felt': 316, 'stars': 317, 'supposed': 318, 'live': 319, 'several': 320, 'mother': 321, 'sound': 322, 'laugh': 323, 'mr': 324, 'boy': 325, 'shes': 326, 'based': 327, 'picture': 328, 'entertaining': 329, 'problem': 330, 'waste': 331, 'worse': 332, 'oh': 333, 'evil': 334, 'fans': 335, 'id': 336, 'friend': 337, 'seemed': 338, 'wanted': 339, 'lead': 340, 'cinema': 341, 'final': 342, 'care': 343, 'despite': 344, 'totally': 345, 'beginning': 346, 'becomes': 347, 'humor': 348, 'dark': 349, 'throughout': 350, 'wont': 351, 'example': 352, 'direction': 353, 'youll': 354, 'already': 355, 'guess': 356, 'lives': 357, 'children': 358, 'unfortunately': 359, 'turn': 360, 'low': 361, 'white': 362, 'called': 363, 'able': 364, 'game': 365, 'days': 366, 'girls': 367, 'wants': 368, 'theyre': 369, 'drama': 370, 'fine': 371, 'horrible': 372, 'amazing': 373, 'quality': 374, 'history': 375, 'gave': 376, 'tries': 377, 'writing': 378, 'act': 379, 'michael': 380, 'killer': 381, 'past': 382, 'kill': 383, 'side': 384, 'works': 385, 'turns': 386, 'enjoyed': 387, 'town': 388, 'son': 389, 'parts': 390, 'favorite': 391, 'flick': 392, 'car': 393, 'killed': 394, 'expect': 395, 'behind': 396, 'matter': 397, 'run': 398, 'eyes': 399, 'ones': 400, 'brilliant': 401, 'stuff': 402, 'heart': 403, 'sometimes': 404, 'obviously': 405, 'directed': 406, 'starts': 407, 'fight': 408, 'soon': 409, 'took': 410, 'city': 411, 'viewer': 412, 'thinking': 413, 'actress': 414, 'highly': 415, 'late': 416, 'genre': 417, 'says': 418, 'decent': 419, 'heard': 420, 'group': 421, 'hell': 422, 'happens': 423, 'leave': 424, 'art': 425, 'lack': 426, 'child': 427, 'except': 428, 'ill': 429, 'experience': 430, 'extremely': 431, 'feeling': 432, 'looked': 433, 'hour': 434, 'told': 435, 'kid': 436, 'moment': 437, 'wouldnt': 438, 'particularly': 439, 'cannot': 440, 'police': 441, 'blood': 442, 'violence': 443, 'shown': 444, 'coming': 445, 'involved': 446, 'score': 447, 'etc': 448, 'voice': 449, 'wonder': 450, 'daughter': 451, 'hand': 452, 'strong': 453, 'chance': 454, 'living': 455, 'save': 456, 'anyway': 457, 'hilarious': 458, 'taken': 459, 'attempt': 460, 'itbr': 461, 'close': 462, 'james': 463, 'stories': 464, 'serious': 465, 'opening': 466, 'including': 467, 'god': 468, 'complete': 469, 'roles': 470, 'lets': 471, 'happen': 472, 'ok': 473, 'song': 474, 'robert': 475, 'obvious': 476, 'type': 477, 'simple': 478, 'across': 479, 'cool': 480, 'ago': 481, 'please': 482, 'released': 483, 'stop': 484, 'exactly': 485, 'david': 486, 'known': 487, 'murder': 488, 'saying': 489, 'jokes': 490, 'slow': 491, 'wish': 492, 'number': 493, 'happened': 494, 'huge': 495, 'cinematography': 496, 'usually': 497, 'whose': 498, 'none': 499, 'seriously': 500, 'shots': 501, 'sad': 502, 'major': 503, 'interest': 504, 'reality': 505, 'relationship': 506, 'english': 507, 'order': 508, 'hours': 509, 'hit': 510, 'alone': 511, 'crap': 512, 'cut': 513, 'today': 514, 'possible': 515, 'call': 516, 'body': 517, 'talent': 518, 'started': 519, 'gore': 520, 'taking': 521, 'knows': 522, 'words': 523, 'annoying': 524, 'career': 525, 'beyond': 526, 'running': 527, 'knew': 528, 'hero': 529, 'mostly': 530, 'ends': 531, 'ridiculous': 532, 'female': 533, 'view': 534, 'change': 535, 'age': 536, 'apparently': 537, 'somewhat': 538, 'opinion': 539, 'usual': 540, 'husband': 541, 'important': 542, 'due': 543, 'power': 544, 'turned': 545, 'word': 546, 'brother': 547, 'documentary': 548, 'finds': 549, 'rating': 550, 'silly': 551, 'upon': 552, 'strange': 553, 'happy': 554, 'scary': 555, 'local': 556, 'cheap': 557, 'jack': 558, 'directors': 559, 'clearly': 560, 'room': 561, 'four': 562, 'basically': 563, 'whats': 564, 'episodes': 565, 'talking': 566, 'modern': 567, 'events': 568, 'arent': 569, 'attention': 570, 'single': 571, 'talk': 572, 'novel': 573, 'television': 574, 'level': 575, 'musical': 576, 'british': 577, 'problems': 578, 'moviebr': 579, 'tells': 580, 'country': 581, 'disappointed': 582, 'sequence': 583, 'miss': 584, 'add': 585, 'lots': 586, 'songs': 587, 'whether': 588, 'easily': 589, 'supporting': 590, 'appears': 591, 'ten': 592, 'review': 593, 'five': 594, 'giving': 595, 'similar': 596, 'french': 597, 'light': 598, 'george': 599, 'dialog': 600, 'bring': 601, 'predictable': 602, 'soundtrack': 603, 'sets': 604, 'romantic': 605, 'storyline': 606, 'havent': 607, 'moving': 608, 'future': 609, 'viewers': 610, 'needs': 611, 'tried': 612, 'falls': 613, 'team': 614, 'message': 615, 'clear': 616, 'sorry': 617, 'comic': 618, 'entertainment': 619, 'enjoyable': 620, 'mention': 621, 'filmbr': 622, 'certain': 623, 'surprised': 624, 'filmed': 625, 'showing': 626, 'among': 627, 'space': 628, 'bunch': 629, 'within': 630, 'easy': 631, 'nearly': 632, 'dull': 633, 'stay': 634, 'parents': 635, 'release': 636, 'theme': 637, 'gone': 638, 'earth': 639, 'named': 640, 'using': 641, 'fall': 642, 'actual': 643, 'buy': 644, 'near': 645, 'writer': 646, 'comments': 647, 'middle': 648, 'doubt': 649, 'feels': 650, 'ways': 651, 'peter': 652, 'typical': 653, 'greatest': 654, 'theater': 655, 'monster': 656, 'king': 657, 'die': 658, 'famous': 659, 'hate': 660, 'move': 661, 'thriller': 662, 'dr': 663, 'deal': 664, 'kept': 665, 'avoid': 666, 'fantastic': 667, 'sequel': 668, 'okay': 669, 'working': 670, 'th': 671, 'points': 672, 'feature': 673, 'lady': 674, 'editing': 675, 'class': 676, 'richard': 677, 'rock': 678, 'straight': 679, 'viewing': 680, 'general': 681, 'means': 682, 'suspense': 683, 'subject': 684, 'tale': 685, 'effort': 686, 'elements': 687, 'boys': 688, 'brought': 689, 'begins': 690, 'check': 691, 'youve': 692, 'somehow': 693, 'imagine': 694, 'material': 695, 'whos': 696, 'hear': 697, 'realistic': 698, 'reviews': 699, 'mystery': 700, 'killing': 701, 'rent': 702, 'minute': 703, 'leads': 704, 'sit': 705, 'sister': 706, 'form': 707, 'forget': 708, 'particular': 709, 'period': 710, 'animation': 711, 'dog': 712, 'sequences': 713, 'surprise': 714, 'weak': 715, 'red': 716, 'expected': 717, 'leaves': 718, 'atmosphere': 719, 'learn': 720, 'deep': 721, 'premise': 722, 'figure': 723, 'tom': 724, 'indeed': 725, 'average': 726, 'decided': 727, 'wait': 728, 'follow': 729, 'york': 730, 'crime': 731, 'possibly': 732, 'paul': 733, 'fast': 734, 'eventually': 735, 'whatever': 736, 'lame': 737, 'dance': 738, 'difficult': 739, 'needed': 740, 'believable': 741, 'situation': 742, 'memorable': 743, 'poorly': 744, 'truth': 745, 'hot': 746, 'stand': 747, 'eye': 748, 'emotional': 749, 'became': 750, 'oscar': 751, 'forced': 752, 'shame': 753, 'sexual': 754, 'superb': 755, 'season': 756, 'keeps': 757, 'footage': 758, 'gay': 759, 'reading': 760, 'note': 761, 'meets': 762, 'third': 763, 'doctor': 764, 'meet': 765, 'writers': 766, 'personal': 767, 'scifi': 768, 'open': 769, 'cheesy': 770, 'total': 771, 'begin': 772, 'hands': 773, 'nature': 774, 'plus': 775, 'crew': 776, 'write': 777, 'filmmakers': 778, 'beauty': 779, 'otherwise': 780, 'question': 781, 'romance': 782, 'unless': 783, 'towards': 784, 'male': 785, 'comment': 786, 'laughs': 787, 'box': 788, 'plenty': 789, 'previous': 790, 'credits': 791, 'features': 792, 'sounds': 793, 'western': 794, 'perfectly': 795, 'screenplay': 796, 'appear': 797, 'de': 798, 'incredibly': 799, 'effect': 800, 'america': 801, 'interested': 802, 'inside': 803, 'weird': 804, 'quickly': 805, 'masterpiece': 806, 'battle': 807, 'free': 808, 'copy': 809, 'society': 810, 'powerful': 811, 'b': 812, 'unique': 813, 'result': 814, 'japanese': 815, 'badly': 816, 'older': 817, 'background': 818, 'stage': 819, 'various': 820, 'setting': 821, 'realize': 822, 'earlier': 823, 'island': 824, 'worked': 825, 'political': 826, 'crazy': 827, 'pay': 828, 'creepy': 829, 'meant': 830, 'air': 831, 'leading': 832, 'mark': 833, 'fairly': 834, 'street': 835, 'brings': 836, 'la': 837, 'apart': 838, 'baby': 839, 'remake': 840, 'portrayed': 841, 'imdb': 842, 'dramatic': 843, 'rich': 844, 'forward': 845, 'admit': 846, 'ask': 847, 'lee': 848, 'dumb': 849, 'following': 850, 'front': 851, 'fighting': 852, 'directing': 853, 'outside': 854, 'girlfriend': 855, 'mess': 856, 'ideas': 857, 'manages': 858, 'spent': 859, 'acted': 860, 'caught': 861, 'recently': 862, 'expecting': 863, 'secret': 864, 'bill': 865, 'development': 866, 'wasted': 867, 'hardly': 868, 'joke': 869, 'success': 870, 'william': 871, 'create': 872, 'deserves': 873, 'reasons': 874, 'present': 875, 'fire': 876, 'attempts': 877, 'joe': 878, 'agree': 879, 'brothers': 880, 'clever': 881, 'water': 882, 'potential': 883, 'return': 884, 'business': 885, 'missing': 886, 'escape': 887, 'cute': 888, 'german': 889, 'ended': 890, 'cover': 891, 'fails': 892, 'cop': 893, 'unlike': 894, 'zombie': 895, 'casting': 896, 'members': 897, 'odd': 898, 'party': 899, 'dream': 900, 'visual': 901, 'talented': 902, 'pure': 903, 'plain': 904, 'cause': 905, 'large': 906, 'twist': 907, 'telling': 908, 'nudity': 909, 'match': 910, 'gun': 911, 'disney': 912, 'hold': 913, 'laughing': 914, 'sadly': 915, 'created': 916, 'waiting': 917, 'fantasy': 918, 'cartoon': 919, 'bored': 920, 'villain': 921, 'familiar': 922, 'public': 923, 'credit': 924, 'slightly': 925, 'married': 926, 'break': 927, 'decides': 928, 'died': 929, 'compared': 930, 'incredible': 931, 'pace': 932, 'speak': 933, 'considering': 934, 'italian': 935, 'tension': 936, 'younger': 937, 'sees': 938, 'missed': 939, 'uses': 940, 'era': 941, 'former': 942, 'hair': 943, 'van': 944, 'suddenly': 945, 'moves': 946, 'amount': 947, 'train': 948, 'mentioned': 949, 'producers': 950, 'biggest': 951, 'list': 952, 'wrote': 953, 'science': 954, 'portrayal': 955, 'dancing': 956, 'company': 957, 'popular': 958, 'state': 959, 'common': 960, 'office': 961, 'cold': 962, 'produced': 963, 'images': 964, 'audiences': 965, 'appreciate': 966, 'rate': 967, 'entirely': 968, 'bought': 969, 'neither': 970, 'project': 971, 'intelligent': 972, 'filled': 973, 'sweet': 974, 'successful': 975, 'yeah': 976, 'store': 977, 'spend': 978, 'value': 979, 'consider': 980, 'scott': 981, 'follows': 982, 'kills': 983, 'fit': 984, 'bizarre': 985, 'choice': 986, 'violent': 987, 'mad': 988, 'concept': 989, 'convincing': 990, 'leaving': 991, 'basic': 992, 'century': 993, 'longer': 994, 'christmas': 995, 'decide': 996, 'fear': 997, 'barely': 998, 'jane': 999, 'humour': 1000}\n"
          ],
          "name": "stdout"
        }
      ]
    },
    {
      "cell_type": "code",
      "metadata": {
        "colab": {
          "base_uri": "https://localhost:8080/"
        },
        "id": "3_37sPeHdRYz",
        "outputId": "f6a6d9e6-764a-4f76-c9ec-6fb077c03488"
      },
      "source": [
        "type(vocab)"
      ],
      "execution_count": null,
      "outputs": [
        {
          "output_type": "execute_result",
          "data": {
            "text/plain": [
              "dict"
            ]
          },
          "metadata": {
            "tags": []
          },
          "execution_count": 32
        }
      ]
    },
    {
      "cell_type": "code",
      "metadata": {
        "id": "9G5DpB6UakG2"
      },
      "source": [
        "embedding_matrix=np.zeros((len(vocab)+1,100))\r\n",
        "embedding_matrix[0]=0                                       #EMBEDDING MATRIX having Word2VEC embeddings trained on our corpus\r\n",
        "for word,i in vocab.items():\r\n",
        "  embedding_matrix[i]=model.wv[word]                        # Making sure the embeddings have correct indices as our one-hot encoding indices  "
      ],
      "execution_count": null,
      "outputs": []
    },
    {
      "cell_type": "code",
      "metadata": {
        "colab": {
          "base_uri": "https://localhost:8080/"
        },
        "id": "P9TcJZhUdW7I",
        "outputId": "2a12b7ba-f8ff-4e42-b1e8-2036b35de82b"
      },
      "source": [
        "print(embedding_matrix[6])                                 #Printing Word2Vec embeddings for the word 6"
      ],
      "execution_count": null,
      "outputs": [
        {
          "output_type": "stream",
          "text": [
            "[ 0.27829286  1.14202845 -1.13200796 -0.86615056 -0.76395261  1.16989899\n",
            " -1.14609993 -1.19067776  0.56821597 -0.3884646   0.49741602  1.36966228\n",
            "  0.61211377 -0.23104851  0.13452944  0.25666571 -0.51154464 -0.46363142\n",
            "  0.14835618 -0.38521487 -0.28446174  0.02626051  0.62926632  0.19693184\n",
            " -0.88400882 -0.70033866 -0.90902233 -0.53146046  1.3846029  -1.22163033\n",
            " -0.54876661 -0.43224162 -0.45322776  0.08496118  0.01889    -0.95167261\n",
            " -0.94870204 -0.37927705  0.30763432  0.07323508 -0.37643957  0.99411893\n",
            "  0.94431323 -0.95819539  0.95148408  0.03729563 -0.69357562  1.23597693\n",
            " -1.20128167  0.77132756 -0.85138911  0.98196125  0.0979758   1.04486358\n",
            " -0.2286385  -0.36181802  0.23821101  0.51555794  1.65986907 -0.09941417\n",
            " -0.61362219  0.60214663  1.11685479 -0.70017648  0.57100183  0.30968165\n",
            " -0.84779936 -0.63847011 -0.01234267 -0.15935762  0.19936854  0.26782489\n",
            "  0.47702986 -0.65748847 -1.76451468  1.1750468   1.59909987 -0.31306431\n",
            " -0.04076926  0.62660486  0.52035999  1.08464468  0.50853431 -1.75943363\n",
            " -0.64819759  0.19564109 -0.11227018  1.86181033 -0.87667203  0.78869998\n",
            " -0.36862406  0.28907943 -0.72191113 -0.72659791  0.93742228  0.46139699\n",
            "  0.60548359 -1.56469166  0.25953263  0.1051165 ]\n"
          ],
          "name": "stdout"
        }
      ]
    },
    {
      "cell_type": "code",
      "metadata": {
        "id": "qGWjjsDmeUJg"
      },
      "source": [
        "embe=torch.FloatTensor(embedding_matrix)                    #Creating a tensor of Word2Vec embedding matrix \r\n"
      ],
      "execution_count": null,
      "outputs": []
    },
    {
      "cell_type": "code",
      "metadata": {
        "colab": {
          "base_uri": "https://localhost:8080/"
        },
        "id": "oTbcqJGOewSg",
        "outputId": "dfc572a5-0537-49ab-f9d8-96d034fb046c"
      },
      "source": [
        "print(embe)                                                 #Printing the embedding matrix tensor"
      ],
      "execution_count": null,
      "outputs": [
        {
          "output_type": "stream",
          "text": [
            "tensor([[ 0.0000,  0.0000,  0.0000,  ...,  0.0000,  0.0000,  0.0000],\n",
            "        [ 0.4776,  0.2761,  0.1007,  ...,  0.3543, -0.1234,  0.5930],\n",
            "        [-1.3413,  0.0378,  0.5118,  ..., -0.3675,  0.1101,  0.1532],\n",
            "        ...,\n",
            "        [ 0.0385,  0.2554, -0.4551,  ...,  1.0981,  0.3907,  0.2417],\n",
            "        [-0.1208,  1.0068, -0.3401,  ..., -0.6367, -0.0090,  0.6241],\n",
            "        [ 0.7406,  0.5282, -1.4153,  ..., -0.1701, -0.1665, -0.0657]])\n"
          ],
          "name": "stdout"
        }
      ]
    },
    {
      "cell_type": "markdown",
      "metadata": {
        "id": "_cFPg0cTiApB"
      },
      "source": [
        "DEFINING THE MODEL"
      ]
    },
    {
      "cell_type": "code",
      "metadata": {
        "id": "hze3I5fBhDmH"
      },
      "source": [
        "class SentimentRNN(nn.Module):\r\n",
        "    def __init__(self,no_layers,vocab_size,hidden_dim,embedding_dim,drop_prob=0.5):\r\n",
        "        super(SentimentRNN,self).__init__()\r\n",
        " \r\n",
        "        self.output_dim = output_dim                                         #OUTPUT-DIMENSIONS =1 (Probablity that it is a positive review)\r\n",
        "        self.hidden_dim = hidden_dim                                         # hidden dim(hyperparameter no of features in h(activations))\r\n",
        " \r\n",
        "        self.no_layers = no_layers                                           # NO OF LAYERS OF LSTM LAYER(STACKING) \r\n",
        "        self.vocab_size = vocab_size\r\n",
        "    \r\n",
        "        # embedding and LSTM layers\r\n",
        "        self.embedding = nn.Embedding.from_pretrained(embe,freeze=True)      #USING THE PRE-TRAINED WORD2VEC EMBEDDING MATRIX\r\n",
        "                                                                             #FREEZE=TRUE MEANS IT IS NOT PART OF LEARNING\r\n",
        "        #lstm\r\n",
        "        self.lstm = nn.LSTM(input_size=embedding_dim,hidden_size=self.hidden_dim,\r\n",
        "                           num_layers=no_layers, batch_first=True)\r\n",
        "        \r\n",
        "        \r\n",
        "        # dropout layer\r\n",
        "        self.dropout = nn.Dropout(0.3)                                       #USING DROPOUT BETWEEN THE LSTM LAYERS TO HELP REGULARIZATION\r\n",
        "                                                                           \r\n",
        "        # linear and sigmoid layer\r\n",
        "        self.fc = nn.Linear(self.hidden_dim, output_dim)                     #A FULLY CONNECTED NN ON TOP OF LSTM LAYER\r\n",
        "        self.sig = nn.Sigmoid()\r\n",
        "         \r\n",
        "    def forward(self,x,hidden):\r\n",
        "        batch_size = x.size(0)\r\n",
        "        # embeddings and lstm_out\r\n",
        "        embeds = self.embedding(x)  \r\n",
        "      \r\n",
        "        lstm_out, hidden = self.lstm(embeds, hidden)\r\n",
        "        \r\n",
        "        lstm_out = lstm_out.contiguous().view(-1, self.hidden_dim) \r\n",
        "        \r\n",
        "        # dropout and fully connected layer\r\n",
        "        out = self.dropout(lstm_out)\r\n",
        "        out = self.fc(out)\r\n",
        "        \r\n",
        "        # sigmoid function\r\n",
        "        sig_out = self.sig(out)\r\n",
        "        \r\n",
        "        # reshape to be batch_size first\r\n",
        "        sig_out = sig_out.view(batch_size, -1)\r\n",
        "\r\n",
        "        sig_out = sig_out[:, -1] # get last batch of labels\r\n",
        "        \r\n",
        "        # return last sigmoid output and hidden state\r\n",
        "        return sig_out, hidden\r\n",
        "        \r\n",
        "        \r\n",
        "        \r\n",
        "    def init_hidden(self, batch_size):\r\n",
        "        h0 = torch.zeros((self.no_layers,batch_size,self.hidden_dim)).to(device)\r\n",
        "        c0 = torch.zeros((self.no_layers,batch_size,self.hidden_dim)).to(device)\r\n",
        "        hidden = (h0,c0)\r\n",
        "        return hidden"
      ],
      "execution_count": null,
      "outputs": []
    },
    {
      "cell_type": "code",
      "metadata": {
        "colab": {
          "base_uri": "https://localhost:8080/"
        },
        "id": "SxKjZ4Noh2KM",
        "outputId": "77c44a14-e436-410a-d738-cc3068db3878"
      },
      "source": [
        "no_layers = 2\r\n",
        "vocab_size = len(vocab) + 1 #extra 1 for padding\r\n",
        "embedding_dim=100\r\n",
        "output_dim = 1\r\n",
        "hidden_dim = 256\r\n",
        "\r\n",
        "\r\n",
        "model = SentimentRNN(no_layers,vocab_size,hidden_dim,embedding_dim,drop_prob=0.5)\r\n",
        "\r\n",
        "#moving to gpu\r\n",
        "model.to(device)\r\n",
        "\r\n",
        "print(model)"
      ],
      "execution_count": null,
      "outputs": [
        {
          "output_type": "stream",
          "text": [
            "SentimentRNN(\n",
            "  (embedding): Embedding(1001, 100)\n",
            "  (lstm): LSTM(100, 256, num_layers=2, batch_first=True)\n",
            "  (dropout): Dropout(p=0.3, inplace=False)\n",
            "  (fc): Linear(in_features=256, out_features=1, bias=True)\n",
            "  (sig): Sigmoid()\n",
            ")\n"
          ],
          "name": "stdout"
        }
      ]
    },
    {
      "cell_type": "code",
      "metadata": {
        "id": "1Q2x9wpkiQlZ"
      },
      "source": [
        "# loss and optimization functions\r\n",
        "lr=0.001                                                      # learning rate used\r\n",
        "\r\n",
        "criterion = nn.BCELoss()                                      # Binary Cross Entropy loss is used\r\n",
        "\r\n",
        "optimizer = torch.optim.Adam(model.parameters(), lr=lr)       # Using Adam optimzer for backpropagation \r\n",
        "\r\n",
        "# function to predict accuracy\r\n",
        "def acc(pred,label):\r\n",
        "    pred = torch.round(pred.squeeze())\r\n",
        "    return torch.sum(pred == label.squeeze()).item()\r\n"
      ],
      "execution_count": null,
      "outputs": []
    },
    {
      "cell_type": "markdown",
      "metadata": {
        "id": "MS1mcGeuMDXm"
      },
      "source": [
        "TRAINING OF THE MODEL "
      ]
    },
    {
      "cell_type": "code",
      "metadata": {
        "colab": {
          "base_uri": "https://localhost:8080/"
        },
        "id": "m_8YyUv5ityO",
        "outputId": "d685ed9f-0246-49f8-fe42-c8d552cf447d"
      },
      "source": [
        "clip = 5                                                       # Clipping is used to tackle problem of exploding gradients \r\n",
        "epochs = 7                                                     # Number of epochs\r\n",
        "valid_loss_min = np.Inf\r\n",
        "# train for some number of epochs\r\n",
        "epoch_tr_loss,epoch_vl_loss = [],[]\r\n",
        "epoch_tr_acc,epoch_vl_acc = [],[]\r\n",
        "\r\n",
        "for epoch in range(epochs):\r\n",
        "    train_losses = []\r\n",
        "    train_acc = 0.0\r\n",
        "    model.train()\r\n",
        "    # initialize hidden state \r\n",
        "    h = model.init_hidden(batch_size)\r\n",
        "    for inputs, labels in train_loader:\r\n",
        "        \r\n",
        "        inputs, labels = inputs.to(device), labels.to(device)   \r\n",
        "        # Creating new variables for the hidden state, otherwise\r\n",
        "        # we'd backprop through the entire training history\r\n",
        "        h = tuple([each.data for each in h])\r\n",
        "        \r\n",
        "        model.zero_grad()\r\n",
        "        output,h = model(inputs,h)\r\n",
        "        \r\n",
        "        # calculate the loss and perform backprop\r\n",
        "        loss = criterion(output.squeeze(), labels.float())\r\n",
        "        loss.backward()\r\n",
        "        train_losses.append(loss.item())\r\n",
        "        accuracy = acc(output,labels)\r\n",
        "        train_acc += accuracy\r\n",
        "        #`clip_grad_norm` helps prevent the exploding gradient problem in RNNs / LSTMs.\r\n",
        "        nn.utils.clip_grad_norm_(model.parameters(), clip)\r\n",
        "        optimizer.step()\r\n",
        " \r\n",
        "    \r\n",
        "        \r\n",
        "    val_h = model.init_hidden(batch_size)\r\n",
        "    val_losses = []\r\n",
        "    val_acc = 0.0\r\n",
        "    model.eval()\r\n",
        "    for inputs, labels in valid_loader:\r\n",
        "            val_h = tuple([each.data for each in val_h])\r\n",
        "\r\n",
        "            inputs, labels = inputs.to(device), labels.to(device)\r\n",
        "\r\n",
        "            output, val_h = model(inputs, val_h)\r\n",
        "            val_loss = criterion(output.squeeze(), labels.float())\r\n",
        "\r\n",
        "            val_losses.append(val_loss.item())\r\n",
        "            \r\n",
        "            accuracy = acc(output,labels)\r\n",
        "            val_acc += accuracy\r\n",
        "            \r\n",
        "    epoch_train_loss = np.mean(train_losses)\r\n",
        "    epoch_val_loss = np.mean(val_losses)\r\n",
        "    epoch_train_acc = train_acc/len(train_loader.dataset)\r\n",
        "    epoch_val_acc = val_acc/len(valid_loader.dataset)\r\n",
        "    epoch_tr_loss.append(epoch_train_loss)\r\n",
        "    epoch_vl_loss.append(epoch_val_loss)\r\n",
        "    epoch_tr_acc.append(epoch_train_acc)\r\n",
        "    epoch_vl_acc.append(epoch_val_acc)\r\n",
        "    print(f'Epoch {epoch+1}') \r\n",
        "    print(f'train_loss : {epoch_train_loss} val_loss : {epoch_val_loss}')\r\n",
        "    print(f'train_accuracy : {epoch_train_acc*100} val_accuracy : {epoch_val_acc*100}')\r\n",
        "    if epoch_val_loss <= valid_loss_min:\r\n",
        "        valid_loss_min = epoch_val_loss\r\n",
        "    print(25*'==')\r\n",
        "    "
      ],
      "execution_count": null,
      "outputs": [
        {
          "output_type": "stream",
          "text": [
            "Epoch 1\n",
            "train_loss : 0.42932492442925774 val_loss : 0.3744488994479179\n",
            "train_accuracy : 80.81866666666667 val_accuracy : 83.072\n",
            "==================================================\n",
            "Epoch 2\n",
            "train_loss : 0.38802455985546114 val_loss : 0.3843854240179062\n",
            "train_accuracy : 83.08533333333334 val_accuracy : 83.312\n",
            "==================================================\n",
            "Epoch 3\n",
            "train_loss : 0.34547032276789347 val_loss : 0.3372580241858959\n",
            "train_accuracy : 85.16266666666667 val_accuracy : 85.816\n",
            "==================================================\n",
            "Epoch 4\n",
            "train_loss : 0.31589344596862795 val_loss : 0.34433276736736296\n",
            "train_accuracy : 86.39466666666667 val_accuracy : 85.336\n",
            "==================================================\n",
            "Epoch 5\n",
            "train_loss : 0.29188482344150546 val_loss : 0.3398723321259022\n",
            "train_accuracy : 87.65066666666667 val_accuracy : 85.264\n",
            "==================================================\n",
            "Epoch 6\n",
            "train_loss : 0.2660309333205223 val_loss : 0.3316104118525982\n",
            "train_accuracy : 88.75733333333334 val_accuracy : 86.048\n",
            "==================================================\n",
            "Epoch 7\n",
            "train_loss : 0.23043474942445755 val_loss : 0.3397528901696205\n",
            "train_accuracy : 90.512 val_accuracy : 86.36\n",
            "==================================================\n"
          ],
          "name": "stdout"
        }
      ]
    },
    {
      "cell_type": "markdown",
      "metadata": {
        "id": "tYyIfr43MPfl"
      },
      "source": [
        "\r\n",
        "\r\n",
        "*   Above, we can see the training,test accuracy and loss function values over the epochs.\r\n",
        "\r\n",
        "*  As we can see the final training accuracy is 90.5% and test accuracy is 86.36  which is quite good.\r\n",
        "\r\n",
        "*  It was also observed that there was a significant improvement in the accuracy on using Word2Vec word embeddings. \r\n",
        "\r\n",
        "\r\n",
        "\r\n",
        "\r\n",
        "\r\n",
        "\r\n",
        "\r\n"
      ]
    },
    {
      "cell_type": "markdown",
      "metadata": {
        "id": "cZ3EgWfRNMok"
      },
      "source": [
        "VISUALIZATION OF THE TRAINING AND VALIDATION ACCURACY OVER EPOCHS"
      ]
    },
    {
      "cell_type": "code",
      "metadata": {
        "id": "0r-e-ITUjQGL",
        "colab": {
          "base_uri": "https://localhost:8080/",
          "height": 410
        },
        "outputId": "ccfabb8c-2463-42a9-97b4-c6cba015e67d"
      },
      "source": [
        "fig = plt.figure(figsize = (20, 6))\r\n",
        "plt.subplot(1, 2, 1)\r\n",
        "plt.plot(epoch_tr_acc, label='Train Acc')\r\n",
        "plt.plot(epoch_vl_acc, label='Validation Acc')\r\n",
        "plt.title(\"Accuracy\")\r\n",
        "plt.legend()\r\n",
        "plt.grid()\r\n",
        "    \r\n",
        "plt.subplot(1, 2, 2)\r\n",
        "plt.plot(epoch_tr_loss, label='Train loss')\r\n",
        "plt.plot(epoch_vl_loss, label='Validation loss')\r\n",
        "plt.title(\"Loss\")\r\n",
        "plt.legend()\r\n",
        "plt.grid()\r\n",
        "\r\n",
        "plt.show()\r\n"
      ],
      "execution_count": null,
      "outputs": [
        {
          "output_type": "display_data",
          "data": {
            "image/png": "[encoded data removed]",
            "text/plain": [
              "<Figure size 1440x432 with 2 Axes>"
            ]
          },
          "metadata": {
            "tags": [],
            "needs_background": "light"
          }
        }
      ]
    },
    {
      "cell_type": "markdown",
      "metadata": {
        "id": "aI97lEb2Nnac"
      },
      "source": [
        "\r\n",
        "\r\n",
        "*   We can see that the training and the validation accuracies increase over the number of epochs.\r\n"
      ]
    },
    {
      "cell_type": "code",
      "metadata": {
        "id": "SUknfB1ylLEK"
      },
      "source": [
        "def predict_text(text):\r\n",
        "        word_seq = np.array([vocab[preprocess_string(word)] for word in text.split() \r\n",
        "                         if preprocess_string(word) in vocab.keys()])\r\n",
        "        word_seq = np.expand_dims(word_seq,axis=0)\r\n",
        "        pad =  torch.from_numpy(padding_(word_seq,500))\r\n",
        "        inputs = pad.to(device)                                                   #FUNCTION FOR PREDICTING SENTIMENT OF A RANDOM TEXT\r\n",
        "        batch_size = 1\r\n",
        "        h = model.init_hidden(batch_size)\r\n",
        "        h = tuple([each.data for each in h])\r\n",
        "        output, h = model(inputs, h)\r\n",
        "        return(output.item())"
      ],
      "execution_count": null,
      "outputs": []
    },
    {
      "cell_type": "markdown",
      "metadata": {
        "id": "SwUesd0QN7sG"
      },
      "source": [
        "PREDICTION FOR  RANDOM TEXTS ENTERED BY ME"
      ]
    },
    {
      "cell_type": "markdown",
      "metadata": {
        "id": "ciGETeAbOGo3"
      },
      "source": [
        "\r\n",
        "\r\n",
        "*   A POSTIVE REVIEW\r\n",
        "\r\n"
      ]
    },
    {
      "cell_type": "code",
      "metadata": {
        "colab": {
          "base_uri": "https://localhost:8080/"
        },
        "id": "Pp63y292yoPB",
        "outputId": "8c92ae3b-f164-4c75-aa84-272557a67009"
      },
      "source": [
        "print('='*70)\r\n",
        "text=\"this movie was one of the world's best ones.it had a good ending and is awesome for fun time with family and friends. The climax was entralling with us gripping onto our seats\"\r\n",
        "print(text)\r\n",
        "print(f'Actual sentiment is  Positive')\r\n",
        "print('='*70)\r\n",
        "pro = predict_text(text)\r\n",
        "status = \"positive\" if pro > 0.5 else \"negative\"\r\n",
        "pro = (1 - pro) if status == \"negative\" else pro\r\n",
        "print(f'predicted sentiment is {status} with a probability of {pro}')"
      ],
      "execution_count": null,
      "outputs": [
        {
          "output_type": "stream",
          "text": [
            "======================================================================\n",
            "this movie was one of the world's best ones.it had a good ending and is awesome for fun time with family and friends. The climax was entralling with us gripping onto our seats\n",
            "Actual sentiment is  Positive\n",
            "======================================================================\n",
            "predicted sentiment is positive with a probability of 0.9696927070617676\n"
          ],
          "name": "stdout"
        }
      ]
    },
    {
      "cell_type": "markdown",
      "metadata": {
        "id": "hbK7yU2zOMKD"
      },
      "source": [
        "\r\n",
        "\r\n",
        "*   A NEGATIVE REVIEW\r\n",
        "\r\n"
      ]
    },
    {
      "cell_type": "code",
      "metadata": {
        "colab": {
          "base_uri": "https://localhost:8080/"
        },
        "id": "8ZVcczg9z6EG",
        "outputId": "9fe126b8-2464-4909-b33a-3f18e5c06fbf"
      },
      "source": [
        "print('='*70)\r\n",
        "text2=\"What a horrible movie. It had the worst ending and the graphics was terrible. I would never watch it again\"\r\n",
        "print(text2)\r\n",
        "print(f'Actual sentiment is  negative')\r\n",
        "print('='*70)\r\n",
        "pro2 = predict_text(text2)\r\n",
        "status2 = \"positive\" if pro2 > 0.5 else \"negative\"\r\n",
        "pro2 = (1 - pro2) if status2 == \"negative\" else pro2\r\n",
        "print(f'predicted sentiment is {status2} with a probability of {pro2}')"
      ],
      "execution_count": null,
      "outputs": [
        {
          "output_type": "stream",
          "text": [
            "======================================================================\n",
            "What a horrible movie. It had the worst ending and the graphics was terrible. I would never watch it again\n",
            "Actual sentiment is  negative\n",
            "======================================================================\n",
            "predicted sentiment is negative with a probability of 0.9982139711501077\n"
          ],
          "name": "stdout"
        }
      ]
    },
    {
      "cell_type": "markdown",
      "metadata": {
        "id": "DY-MPegqOeMY"
      },
      "source": [
        " A REAL REVIEW TESTED ON THE MODEL"
      ]
    },
    {
      "cell_type": "code",
      "metadata": {
        "colab": {
          "base_uri": "https://localhost:8080/"
        },
        "id": "43kMjM_sOi2P",
        "outputId": "88c836e6-eac4-490b-c532-63fa4cd36582"
      },
      "source": [
        "print('='*70)\r\n",
        "text3=\"Dutt is, in fact, both the strongest and weakest link in the film. In the climax scene, which has several actors coming together, he scores. Ray, not a lover of whodunits, thought denouements were long and boring, but here, Dutt keeps the audience hooked. Again, the biggest misfit in this complicated Sharadindu novel on misfits is Dutt himself, who could have done better by explaining why he was there at all and had Byomkesh chasing him at the end — is it an allegory for real life where Byomkesh, as a subject, keeps haunting him? \"\r\n",
        "print(text3)\r\n",
        "print('='*70)\r\n",
        "pro3 = predict_text(text3)\r\n",
        "status3 = \"positive\" if pro3 > 0.5 else \"negative\"\r\n",
        "pro3 = (1 - pro3) if status3 == \"negative\" else pro3\r\n",
        "print(f'predicted sentiment is {status3} with a probability of {pro3}')"
      ],
      "execution_count": null,
      "outputs": [
        {
          "output_type": "stream",
          "text": [
            "======================================================================\n",
            "Dutt is, in fact, both the strongest and weakest link in the film. In the climax scene, which has several actors coming together, he scores. Ray, not a lover of whodunits, thought denouements were long and boring, but here, Dutt keeps the audience hooked. Again, the biggest misfit in this complicated Sharadindu novel on misfits is Dutt himself, who could have done better by explaining why he was there at all and had Byomkesh chasing him at the end — is it an allegory for real life where Byomkesh, as a subject, keeps haunting him? \n",
            "======================================================================\n",
            "predicted sentiment is negative with a probability of 0.8306715488433838\n"
          ],
          "name": "stdout"
        }
      ]
    },
    {
      "cell_type": "markdown",
      "metadata": {
        "id": "QPI6H_sF20MK"
      },
      "source": [
        "THE END"
      ]
    },
    {
      "cell_type": "code",
      "metadata": {
        "id": "nOirZ0vhytuV"
      },
      "source": [
        ""
      ],
      "execution_count": null,
      "outputs": []
    }
  ]
}